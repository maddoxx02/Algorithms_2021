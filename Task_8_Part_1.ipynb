{
  "nbformat": 4,
  "nbformat_minor": 0,
  "metadata": {
    "colab": {
      "name": "Task 8 - Part 1",
      "provenance": [],
      "collapsed_sections": []
    },
    "kernelspec": {
      "name": "python3",
      "display_name": "Python 3"
    },
    "language_info": {
      "name": "python"
    }
  },
  "cells": [
    {
      "cell_type": "code",
      "metadata": {
        "colab": {
          "base_uri": "https://localhost:8080/",
          "height": 507
        },
        "id": "c_qyG9PVHWQg",
        "outputId": "c7a19fba-2e0a-49a1-b691-e1db747b4970"
      },
      "source": [
        "# Prim's Algorithm \n",
        "\n",
        "import time\n",
        "import matplotlib.pyplot as plt\n",
        "\n",
        "\n",
        "INF = 9999999\n",
        "\n",
        "# number of vertices in graph\n",
        "N = 10\n",
        "\n",
        "#Exemplar Graph\n",
        "G = [[0, 19, 5, 0, 0, 3, 5, 6, 8, 13],\n",
        "     [19, 0, 5, 9, 2, 10, 8, 7, 3, 0],\n",
        "     [5, 5, 0, 1, 6, 8, 3, 1, 20, 1],\n",
        "     [0, 9, 1, 0, 1, 11, 15, 4, 3, 2],\n",
        "     [0, 2, 6, 1, 0, 17, 19, 1, 0, 0],\n",
        "     [3, 10, 8, 11, 17, 0, 16, 1, 4, 10],\n",
        "     [5, 8, 3, 15, 19, 16, 0, 9, 7, 11],\n",
        "     [6, 7, 1, 4, 1, 1, 9, 0, 2, 17],\n",
        "     [8, 3, 20, 3, 0, 4, 7, 2, 0, 19],\n",
        "     [13, 0, 1, 2, 0, 10, 11, 17, 19, 0]]\n",
        "\n",
        "\n",
        "selected_node = [0, 0, 0, 0, 0, 0, 0, 0, 0, 0]\n",
        "\n",
        "no_edge = 0\n",
        "\n",
        "times = []\n",
        "\n",
        "selected_node[0] = True\n",
        "\n",
        "print(\"Edge : Weight\\n\")\n",
        "\n",
        "#Starting Time Measurement\n",
        "start = time.time()\n",
        "\n",
        "while (no_edge < N - 1):\n",
        "    \n",
        "    minimum = INF\n",
        "    a = 0\n",
        "    b = 0\n",
        "    for m in range(N):\n",
        "        if selected_node[m]:\n",
        "            for n in range(N):\n",
        "                if ((not selected_node[n]) and G[m][n]):  \n",
        "                    # not in selected and there is an edge\n",
        "                    if minimum > G[m][n]:\n",
        "                        minimum = G[m][n]\n",
        "                        a = m\n",
        "                        b = n\n",
        "    print(str(a) + \"-\" + str(b) + \":\" + str(G[a][b]))\n",
        "    selected_node[b] = True\n",
        "    no_edge += 1\n",
        "    elapsed_time = time.time() - start\n",
        "    times.append(elapsed_time)\n",
        "\n",
        "execution_time = [0,0,0,0,0,0,0,0,0]\n",
        "\n",
        "#Plotting Graphs\n",
        "print(times)\n",
        "plt.plot()\n",
        "plt.plot(times, label = 'Execution Time', color = 'orange')\n",
        "plt.plot(execution_time, label = 'Adj Matrix SZ', color = 'blue')\n",
        "plt.xlabel(\"Intervals\")\n",
        "plt.ylabel(\"Time\")\n",
        "plt.legend()\n",
        "plt.show()"
      ],
      "execution_count": 4,
      "outputs": [
        {
          "output_type": "stream",
          "name": "stdout",
          "text": [
            "Edge : Weight\n",
            "\n",
            "0-5:3\n",
            "5-7:1\n",
            "7-2:1\n",
            "2-3:1\n",
            "2-9:1\n",
            "3-4:1\n",
            "4-1:2\n",
            "7-8:2\n",
            "2-6:3\n",
            "[0.00020599365234375, 0.0002510547637939453, 0.0002987384796142578, 0.0003497600555419922, 0.0004029273986816406, 0.00045752525329589844, 0.0005128383636474609, 0.0005662441253662109, 0.0006349086761474609]\n"
          ]
        },
        {
          "output_type": "display_data",
          "data": {
            "image/png": "[encoded data removed]",
            "text/plain": [
              "<Figure size 432x288 with 1 Axes>"
            ]
          },
          "metadata": {
            "needs_background": "light"
          }
        }
      ]
    },
    {
      "cell_type": "code",
      "metadata": {
        "id": "2T1262YIGcC8"
      },
      "source": [
        ""
      ],
      "execution_count": null,
      "outputs": []
    }
  ]
}