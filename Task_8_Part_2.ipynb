{
  "nbformat": 4,
  "nbformat_minor": 0,
  "metadata": {
    "colab": {
      "name": "Task 8 - Part 2",
      "provenance": []
    },
    "kernelspec": {
      "name": "python3",
      "display_name": "Python 3"
    },
    "language_info": {
      "name": "python"
    }
  },
  "cells": [
    {
      "cell_type": "code",
      "metadata": {
        "colab": {
          "base_uri": "https://localhost:8080/",
          "height": 325
        },
        "id": "_fuZVcMvbDYV",
        "outputId": "bb519ae2-8b9c-48bf-f2a7-2141e3895af5"
      },
      "source": [
        "#Ford Fulkersons Algorithm to Calculate Maximum Flow \n",
        "\n",
        "import time \n",
        "import matplotlib.pyplot as plt\n",
        "from collections import defaultdict\n",
        "from collections import defaultdict\n",
        "\n",
        "times = []\n",
        "\n",
        "class Graph:\n",
        "\n",
        "    def __init__(self, graph):\n",
        "        self.graph = graph\n",
        "        self. ROW = len(graph)\n",
        "\n",
        "\n",
        "    # Using BFS as a searching algorithm \n",
        "    def searching_algo_BFS(self, s, t, parent):\n",
        "\n",
        "        visited = [False] * (self.ROW)\n",
        "        queue = []\n",
        "\n",
        "        queue.append(s)\n",
        "        visited[s] = True\n",
        "\n",
        "        while queue:\n",
        "\n",
        "            u = queue.pop(0)\n",
        "\n",
        "            for ind, val in enumerate(self.graph[u]):\n",
        "                if visited[ind] == False and val > 0:\n",
        "                    queue.append(ind)\n",
        "                    visited[ind] = True\n",
        "                    parent[ind] = u\n",
        "\n",
        "        return True if visited[t] else False\n",
        "\n",
        "    # Applying fordfulkerson algorithm\n",
        "    def ford_fulkerson(self, source, sink):\n",
        "        parent = [-1] * (self.ROW)\n",
        "        max_flow = 0\n",
        "        start = time.time()\n",
        "        while self.searching_algo_BFS(source, sink, parent):\n",
        "\n",
        "            path_flow = float(\"Inf\")\n",
        "            s = sink\n",
        "            while(s != source):\n",
        "                path_flow = min(path_flow, self.graph[parent[s]][s])\n",
        "                s = parent[s]\n",
        "\n",
        "            # Adding the path flows\n",
        "            max_flow += path_flow\n",
        "\n",
        "            # Updating the residual values of edges\n",
        "            v = sink\n",
        "            while(v != source):\n",
        "                u = parent[v]\n",
        "                self.graph[u][v] -= path_flow\n",
        "                self.graph[v][u] += path_flow\n",
        "                v = parent[v]\n",
        "            elapsed_time = time.time() - start\n",
        "            times.append(elapsed_time)\n",
        "        \n",
        "        return max_flow\n",
        "\n",
        "execution_time = [0,0,0]\n",
        "\n",
        "graph = [[0, 8, 0, 0, 3, 0],\n",
        "         [0, 0, 9, 0, 0, 0],\n",
        "         [0, 0, 0, 0, 7, 2],\n",
        "         [0, 0, 0, 0, 0, 5],\n",
        "         [0, 0, 7, 4, 0, 0],\n",
        "         [0, 0, 0, 0, 0, 0]]\n",
        "\n",
        "g = Graph(graph)\n",
        "\n",
        "source = 0\n",
        "sink = 5\n",
        "\n",
        "print(\"Max Flow: %d \" % g.ford_fulkerson(source, sink))\n",
        "\n",
        "print(times)\n",
        "plt.plot()\n",
        "plt.plot(times, label = 'Execution Time', color = 'orange')\n",
        "plt.plot(execution_time, label = 'Adj Matrix SZ', color = 'blue')\n",
        "plt.xlabel(\"Intervals\")\n",
        "plt.ylabel(\"Time\")\n",
        "plt.legend()\n",
        "plt.show()"
      ],
      "execution_count": 35,
      "outputs": [
        {
          "output_type": "stream",
          "name": "stdout",
          "text": [
            "Max Flow: 6 \n",
            "[2.1457672119140625e-05, 3.2901763916015625e-05, 4.458427429199219e-05]\n"
          ]
        },
        {
          "output_type": "display_data",
          "data": {
            "image/png": "[encoded data removed]",
            "text/plain": [
              "<Figure size 432x288 with 1 Axes>"
            ]
          },
          "metadata": {
            "needs_background": "light"
          }
        }
      ]
    },
    {
      "cell_type": "code",
      "metadata": {
        "id": "VuKCFtovbKNW"
      },
      "source": [
        ""
      ],
      "execution_count": null,
      "outputs": []
    }
  ]
}